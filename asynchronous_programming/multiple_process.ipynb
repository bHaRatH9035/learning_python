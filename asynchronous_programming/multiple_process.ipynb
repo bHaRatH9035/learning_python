{
 "metadata": {
  "language_info": {
   "codemirror_mode": {
    "name": "ipython",
    "version": 3
   },
   "file_extension": ".py",
   "mimetype": "text/x-python",
   "name": "python",
   "nbconvert_exporter": "python",
   "pygments_lexer": "ipython3",
   "version": "3.9.1-final"
  },
  "orig_nbformat": 2,
  "kernelspec": {
   "name": "python3",
   "display_name": "Python 3.9.1 64-bit",
   "metadata": {
    "interpreter": {
     "hash": "80542b596215ea10feb76bf9612b348e194959ea1c5670492ed9d3f0e86f300c"
    }
   }
  }
 },
 "nbformat": 4,
 "nbformat_minor": 2,
 "cells": [
  {
   "source": [
    "## Multiple Process\n",
    "With this multiple process will be created by the application and all of them will run simultaneously\n",
    "Underlying OS will take care of scheduling the process and resource sharing\n",
    "\n",
    "Python's `multiprocessing` library can be used "
   ],
   "cell_type": "markdown",
   "metadata": {}
  },
  {
   "cell_type": "code",
   "execution_count": 1,
   "metadata": {},
   "outputs": [],
   "source": [
    "from multiprocessing import Process"
   ]
  },
  {
   "cell_type": "code",
   "execution_count": 3,
   "metadata": {},
   "outputs": [],
   "source": [
    "def print_function(value='Full Metal Alchemist Brotherhood'):\n",
    "    print(\"I have watched [{}] anime\".format(value))"
   ]
  },
  {
   "cell_type": "code",
   "execution_count": 5,
   "metadata": {},
   "outputs": [
    {
     "output_type": "stream",
     "name": "stdout",
     "text": [
      "creating new process\ncreating new process\ncreating new process\ncreating new process\n"
     ]
    }
   ],
   "source": [
    "animes = ['Naruto Shippuden', 'Dragon Ball Z', 'Demon Slayer', 'Death Note']\n",
    "procs = []\n",
    "\n",
    "for anime in animes:\n",
    "    print(\"creating new process\")\n",
    "    proc = Process(target=print_function, args=(anime,))\n",
    "    procs.append(proc)\n",
    "    proc.start()\n",
    "\n",
    "for proc in procs:\n",
    "    proc.join()"
   ]
  },
  {
   "source": [
    "Output for above program\n",
    "\n",
    "![Output](../images/py_mp_p.png)"
   ],
   "cell_type": "markdown",
   "metadata": {}
  }
 ]
}