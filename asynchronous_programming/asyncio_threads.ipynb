{
 "metadata": {
  "language_info": {
   "codemirror_mode": {
    "name": "ipython",
    "version": 3
   },
   "file_extension": ".py",
   "mimetype": "text/x-python",
   "name": "python",
   "nbconvert_exporter": "python",
   "pygments_lexer": "ipython3",
   "version": "3.9.1-final"
  },
  "orig_nbformat": 2,
  "kernelspec": {
   "name": "python3",
   "display_name": "Python 3.9.1 64-bit",
   "metadata": {
    "interpreter": {
     "hash": "80542b596215ea10feb76bf9612b348e194959ea1c5670492ed9d3f0e86f300c"
    }
   }
  }
 },
 "nbformat": 4,
 "nbformat_minor": 2,
 "cells": [
  {
   "source": [
    "## Asynchronous Programming using `asyncio` library\n",
    "\n",
    "`asyncio` library is only way where OS will not participate in scheduling and resource sharing there will be only one process as far as OS process are concerned\n",
    "\n",
    "`asyncio` uses different constructs: `event loops`, `coroutines` and `futures`\n",
    "\n",
    "`event loop` manages and distributes the execution of different tasks. It registers them and handles distributing the flow of control between them\n",
    "\n",
    "`Coroutines` (covered above) are special functions that work similarly to Python generators, on await they release the flow of control back to the event loop. A coroutine needs to be scheduled to run on the event loop, once scheduled coroutines are wrapped in Tasks which is a type of Future\n",
    "\n",
    "`Futures` represent the result of a task that may or may not have been executed. This result may be an exception\n",
    "\n",
    "Using Asyncio, you can structure your code so subtasks are defined as coroutines and allows you to schedule them as you please, including simultaneously. Coroutines contain yield points where we define possible points where a context switch can happen if other tasks are pending, but will not if no other task is pending\n",
    "\n",
    "A context switch in asyncio represents the event loop yielding the flow of control from one coroutine to the next"
   ],
   "cell_type": "markdown",
   "metadata": {}
  },
  {
   "cell_type": "code",
   "execution_count": 1,
   "metadata": {},
   "outputs": [],
   "source": [
    "# this is a normal function\n",
    "def numsum(x):\n",
    "    return x\n",
    "\n",
    "# this is a coroutine\n",
    "async def num_sum(x):\n",
    "    return (x)"
   ]
  },
  {
   "cell_type": "code",
   "execution_count": 2,
   "metadata": {},
   "outputs": [
    {
     "output_type": "stream",
     "name": "stdout",
     "text": [
      "10\n"
     ]
    }
   ],
   "source": [
    "print(numsum(10))"
   ]
  },
  {
   "cell_type": "code",
   "execution_count": 3,
   "metadata": {},
   "outputs": [
    {
     "output_type": "stream",
     "name": "stdout",
     "text": [
      "<coroutine object num_sum at 0x0000028F55EFE6C0>\n"
     ]
    }
   ],
   "source": [
    "print(num_sum(10))"
   ]
  },
  {
   "cell_type": "code",
   "execution_count": 4,
   "metadata": {},
   "outputs": [
    {
     "output_type": "stream",
     "name": "stdout",
     "text": [
      "10\n"
     ]
    }
   ],
   "source": [
    "print(await num_sum(10))"
   ]
  },
  {
   "cell_type": "code",
   "execution_count": null,
   "metadata": {},
   "outputs": [],
   "source": []
  }
 ]
}