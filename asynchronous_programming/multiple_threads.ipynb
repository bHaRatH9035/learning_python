{
 "metadata": {
  "language_info": {
   "codemirror_mode": {
    "name": "ipython",
    "version": 3
   },
   "file_extension": ".py",
   "mimetype": "text/x-python",
   "name": "python",
   "nbconvert_exporter": "python",
   "pygments_lexer": "ipython3",
   "version": "3.9.1-final"
  },
  "orig_nbformat": 2,
  "kernelspec": {
   "name": "python3",
   "display_name": "Python 3.9.1 64-bit",
   "metadata": {
    "interpreter": {
     "hash": "80542b596215ea10feb76bf9612b348e194959ea1c5670492ed9d3f0e86f300c"
    }
   }
  }
 },
 "nbformat": 4,
 "nbformat_minor": 2,
 "cells": [
  {
   "source": [
    "## Multiple Threads\n",
    "\n",
    "Can start multiple threads in same application context\n",
    "\n",
    "Python's `threading` library can be used for this\n"
   ],
   "cell_type": "markdown",
   "metadata": {}
  },
  {
   "cell_type": "code",
   "execution_count": 1,
   "metadata": {},
   "outputs": [],
   "source": [
    "import threading"
   ]
  },
  {
   "cell_type": "code",
   "execution_count": 2,
   "metadata": {},
   "outputs": [],
   "source": [
    "def print_function(value='Full Metal Alchemist Brotherhood'):\n",
    "    print(\"I have watched [{}] anime\".format(value))"
   ]
  },
  {
   "cell_type": "code",
   "execution_count": 3,
   "metadata": {},
   "outputs": [
    {
     "output_type": "stream",
     "name": "stdout",
     "text": [
      "I have watched [Dragon Ball Z] anime\nI have watched [Death Note] anime\nI have watched [Full Metal Alchemist Brotherhood] anime\n"
     ]
    }
   ],
   "source": [
    "t1 = threading.Thread(target=print_function, args=('Dragon Ball Z',))\n",
    "t2 = threading.Thread(target=print_function, args=('Death Note',))\n",
    "t3 = threading.Thread(target=print_function, args=())\n",
    "\n",
    "t1.start()\n",
    "t2.start()\n",
    "t3.start()\n",
    "\n",
    "t1.join()\n",
    "t2.join()\n",
    "t3.join()"
   ]
  },
  {
   "cell_type": "code",
   "execution_count": null,
   "metadata": {},
   "outputs": [],
   "source": []
  }
 ]
}