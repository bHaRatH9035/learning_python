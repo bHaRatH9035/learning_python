{
 "metadata": {
  "language_info": {
   "codemirror_mode": {
    "name": "ipython",
    "version": 3
   },
   "file_extension": ".py",
   "mimetype": "text/x-python",
   "name": "python",
   "nbconvert_exporter": "python",
   "pygments_lexer": "ipython3",
   "version": "3.9.1-final"
  },
  "orig_nbformat": 2,
  "kernelspec": {
   "name": "python3",
   "display_name": "Python 3.9.1 64-bit",
   "metadata": {
    "interpreter": {
     "hash": "80542b596215ea10feb76bf9612b348e194959ea1c5670492ed9d3f0e86f300c"
    }
   }
  }
 },
 "nbformat": 4,
 "nbformat_minor": 2,
 "cells": [
  {
   "source": [
    "## Coroutines \n",
    "\n",
    "Coroutines are generalization of subroutines\n",
    "\n",
    "They are used for cooperative multitasking where a process voluntarily yield (give away) control periodically or when idle in order to enable multiple applications to be run simultaneously\n",
    "\n",
    "`yield` is used to teporarily take away control and `<COROUTINE>.send` is used to send data into coroutine"
   ],
   "cell_type": "markdown",
   "metadata": {}
  },
  {
   "cell_type": "code",
   "execution_count": 1,
   "metadata": {},
   "outputs": [],
   "source": [
    "def print_all(value):\n",
    "    print('Print All args: [{}]'.format(value))\n",
    "    try:\n",
    "        while True:\n",
    "            # yeild used to create coroutine\n",
    "            recv_value = (yield)\n",
    "            print('Func Value: [{}], Recv Value: [{}]'.format(value, recv_value))\n",
    "    except GeneratorExit:\n",
    "        print('Closing coroutine!')"
   ]
  },
  {
   "cell_type": "code",
   "execution_count": 2,
   "metadata": {},
   "outputs": [
    {
     "output_type": "stream",
     "name": "stdout",
     "text": [
      "Print All args: [first_args_value]\nFunc Value: [first_args_value], Recv Value: [yield_args_one]\nFunc Value: [first_args_value], Recv Value: [yield_args_two]\nFunc Value: [first_args_value], Recv Value: [yield_args_three]\nClosing coroutine!\n"
     ]
    }
   ],
   "source": [
    "c = print_all('first_args_value')\n",
    "c.__next__()\n",
    "c.send('yield_args_one')\n",
    "c.send('yield_args_two')\n",
    "c.send('yield_args_three')\n",
    "c.close()"
   ]
  },
  {
   "cell_type": "code",
   "execution_count": null,
   "metadata": {},
   "outputs": [],
   "source": []
  }
 ]
}